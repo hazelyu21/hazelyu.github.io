{
 "cells": [
  {
   "cell_type": "code",
   "execution_count": 101,
   "id": "5b06d331",
   "metadata": {},
   "outputs": [
    {
     "name": "stdout",
     "output_type": "stream",
     "text": [
      "<class 'numpy.ndarray'>\n",
      "(750, 750, 4)\n",
      "<class 'PIL.Image.Image'>\n",
      "RGBA\n",
      "(750, 750)\n"
     ]
    }
   ],
   "source": [
    "from PIL import Image\n",
    "from numpy import asarray\n",
    "# load the image\n",
    "image = Image.open('orange.png')\n",
    "# convert image to numpy array\n",
    "orange = asarray(image)\n",
    "print(type(orange))\n",
    "# summarize shape\n",
    "print(orange.shape)\n",
    "\n",
    "# create Pillow image\n",
    "image2 = Image.fromarray(orange)\n",
    "print(type(image2))\n",
    "\n",
    "# summarize image details\n",
    "print(image2.mode)\n",
    "print(image2.size)"
   ]
  },
  {
   "cell_type": "code",
   "execution_count": 102,
   "id": "6977d43d",
   "metadata": {},
   "outputs": [
    {
     "name": "stdout",
     "output_type": "stream",
     "text": [
      "<class 'numpy.ndarray'>\n",
      "(750, 750, 4)\n",
      "<class 'PIL.Image.Image'>\n",
      "RGBA\n",
      "(750, 750)\n"
     ]
    }
   ],
   "source": [
    "# load the image\n",
    "image = Image.open('red.png')\n",
    "# convert image to numpy array\n",
    "red = asarray(image)\n",
    "print(type(red))\n",
    "# summarize shape\n",
    "print(red.shape)\n",
    "\n",
    "# create Pillow image\n",
    "image3 = Image.fromarray(red)\n",
    "print(type(image3))\n",
    "\n",
    "# summarize image details\n",
    "print(image3.mode)\n",
    "print(image3.size)"
   ]
  },
  {
   "cell_type": "code",
   "execution_count": 103,
   "id": "fc66c86b",
   "metadata": {},
   "outputs": [
    {
     "name": "stdout",
     "output_type": "stream",
     "text": [
      "<class 'numpy.ndarray'>\n",
      "(750, 750, 4)\n",
      "<class 'PIL.Image.Image'>\n",
      "RGBA\n",
      "(750, 750)\n"
     ]
    }
   ],
   "source": [
    "image = Image.open('turqoise.png')\n",
    "# convert image to numpy array\n",
    "turqoise = asarray(image)\n",
    "print(type(turqoise))\n",
    "# summarize shape\n",
    "print(turqoise.shape)\n",
    "\n",
    "# create Pillow image\n",
    "image4 = Image.fromarray(turqoise)\n",
    "print(type(image4))\n",
    "\n",
    "# summarize image details\n",
    "print(image4.mode)\n",
    "print(image4.size)"
   ]
  },
  {
   "cell_type": "code",
   "execution_count": 104,
   "id": "7f50b23e",
   "metadata": {},
   "outputs": [
    {
     "name": "stdout",
     "output_type": "stream",
     "text": [
      "<class 'numpy.ndarray'>\n",
      "(750, 750, 4)\n",
      "<class 'PIL.Image.Image'>\n",
      "RGBA\n",
      "(750, 750)\n"
     ]
    }
   ],
   "source": [
    "image = Image.open('blue.png')\n",
    "# convert image to numpy array\n",
    "blue = asarray(image)\n",
    "print(type(blue))\n",
    "# summarize shape\n",
    "print(blue.shape)\n",
    "\n",
    "# create Pillow image\n",
    "image5 = Image.fromarray(blue)\n",
    "print(type(image5))\n",
    "\n",
    "# summarize image details\n",
    "print(image5.mode)\n",
    "print(image5.size)"
   ]
  },
  {
   "cell_type": "code",
   "execution_count": 105,
   "id": "eb47014a",
   "metadata": {},
   "outputs": [
    {
     "name": "stdout",
     "output_type": "stream",
     "text": [
      "<class 'numpy.ndarray'>\n",
      "(750, 750, 4)\n",
      "<class 'PIL.Image.Image'>\n",
      "RGBA\n",
      "(750, 750)\n"
     ]
    }
   ],
   "source": [
    "image = Image.open('green.png')\n",
    "# convert image to numpy array\n",
    "green = asarray(image)\n",
    "print(type(green))\n",
    "# summarize shape\n",
    "print(green.shape)\n",
    "\n",
    "# create Pillow image\n",
    "image6 = Image.fromarray(green)\n",
    "print(type(image6))\n",
    "\n",
    "# summarize image details\n",
    "print(image6.mode)\n",
    "print(image6.size)"
   ]
  },
  {
   "cell_type": "code",
   "execution_count": 106,
   "id": "60a13530",
   "metadata": {},
   "outputs": [],
   "source": [
    "import matplotlib.pyplot as plt\n",
    "import cv2\n",
    "from sklearn.cluster import KMeans"
   ]
  },
  {
   "cell_type": "code",
   "execution_count": 107,
   "id": "e88f0ddd",
   "metadata": {},
   "outputs": [],
   "source": [
    "img2=cv2.cvtColor(orange,cv2.COLOR_BGR2RGB)\n",
    "img3=cv2.cvtColor(red,cv2.COLOR_BGR2RGB)\n",
    "img4=cv2.cvtColor(turqoise,cv2.COLOR_BGR2RGB)\n",
    "img5=cv2.cvtColor(blue,cv2.COLOR_BGR2RGB)\n",
    "img6=cv2.cvtColor(green,cv2.COLOR_BGR2RGB)\n"
   ]
  },
  {
   "cell_type": "code",
   "execution_count": 108,
   "id": "bc8c25ce",
   "metadata": {},
   "outputs": [],
   "source": [
    "img2=img2.reshape((img.shape[1]*img.shape[0],3))\n",
    "img3=img3.reshape((img.shape[1]*img.shape[0],3))\n",
    "img4=img4.reshape((img.shape[1]*img.shape[0],3))\n",
    "img5=img5.reshape((img.shape[1]*img.shape[0],3))\n",
    "img6=img6.reshape((img.shape[1]*img.shape[0],3))"
   ]
  },
  {
   "cell_type": "code",
   "execution_count": 109,
   "id": "5b7c37a9",
   "metadata": {},
   "outputs": [],
   "source": [
    "import numpy as np"
   ]
  },
  {
   "cell_type": "code",
   "execution_count": 110,
   "id": "f4b56046",
   "metadata": {},
   "outputs": [
    {
     "data": {
      "image/png": "[encoded data removed]",
      "text/plain": [
       "<Figure size 432x288 with 1 Axes>"
      ]
     },
     "metadata": {},
     "output_type": "display_data"
    }
   ],
   "source": [
    "k_means = KMeans(n_clusters=5)\n",
    "fit=kmeans.fit(img2)\n",
    "lab=kmeans.labels_\n",
    "lab=list(lab)\n",
    "centroid=kmeans.cluster_centers_\n",
    "percent=[]\n",
    "\n",
    "for x in range(len(centroid)):\n",
    "    j=lab.count(x)\n",
    "    j=j/(len(lab))\n",
    "    percent.append(j)\n",
    "    \n",
    "\n",
    "\n",
    "\n",
    "plt.pie(percent,colors=np.array(centroid/255),labels=np.arange(len(centroid)))\n",
    "plt.show()\n"
   ]
  },
  {
   "cell_type": "code",
   "execution_count": 111,
   "id": "ad6199db",
   "metadata": {},
   "outputs": [
    {
     "data": {
      "image/png": "[encoded data removed]",
      "text/plain": [
       "<Figure size 432x288 with 1 Axes>"
      ]
     },
     "metadata": {},
     "output_type": "display_data"
    }
   ],
   "source": [
    "k_means = KMeans(n_clusters=5)\n",
    "fit=kmeans.fit(img3)\n",
    "lab=kmeans.labels_\n",
    "lab=list(lab)\n",
    "centroid=kmeans.cluster_centers_\n",
    "percent=[]\n",
    "\n",
    "for x in range(len(centroid)):\n",
    "    j=lab.count(x)\n",
    "    j=j/(len(lab))\n",
    "    percent.append(j)\n",
    "    \n",
    "\n",
    "\n",
    "\n",
    "plt.pie(percent,colors=np.array(centroid/255),labels=np.arange(len(centroid)))\n",
    "plt.show()\n"
   ]
  },
  {
   "cell_type": "code",
   "execution_count": 112,
   "id": "817f1690",
   "metadata": {},
   "outputs": [
    {
     "data": {
      "image/png": "[encoded data removed]",
      "text/plain": [
       "<Figure size 432x288 with 1 Axes>"
      ]
     },
     "metadata": {},
     "output_type": "display_data"
    }
   ],
   "source": [
    "k_means = KMeans(n_clusters=5)\n",
    "fit=kmeans.fit(img4)\n",
    "lab=kmeans.labels_\n",
    "lab=list(lab)\n",
    "centroid=kmeans.cluster_centers_\n",
    "percent=[]\n",
    "\n",
    "for x in range(len(centroid)):\n",
    "    j=lab.count(x)\n",
    "    j=j/(len(lab))\n",
    "    percent.append(j)\n",
    "    \n",
    "\n",
    "\n",
    "\n",
    "plt.pie(percent,colors=np.array(centroid/255),labels=np.arange(len(centroid)))\n",
    "plt.show()\n"
   ]
  },
  {
   "cell_type": "code",
   "execution_count": 113,
   "id": "fb9b62dc",
   "metadata": {},
   "outputs": [
    {
     "data": {
      "image/png": "[encoded data removed]",
      "text/plain": [
       "<Figure size 432x288 with 1 Axes>"
      ]
     },
     "metadata": {},
     "output_type": "display_data"
    }
   ],
   "source": [
    "k_means = KMeans(n_clusters=5)\n",
    "fit=kmeans.fit(img5)\n",
    "lab=kmeans.labels_\n",
    "lab=list(lab)\n",
    "centroid=kmeans.cluster_centers_\n",
    "percent=[]\n",
    "\n",
    "for x in range(len(centroid)):\n",
    "    j=lab.count(x)\n",
    "    j=j/(len(lab))\n",
    "    percent.append(j)\n",
    "    \n",
    "\n",
    "\n",
    "\n",
    "plt.pie(percent,colors=np.array(centroid/255),labels=np.arange(len(centroid)))\n",
    "plt.show()\n"
   ]
  },
  {
   "cell_type": "code",
   "execution_count": 114,
   "id": "9e25b4ec",
   "metadata": {},
   "outputs": [
    {
     "data": {
      "image/png": "[encoded data removed]",
      "text/plain": [
       "<Figure size 432x288 with 1 Axes>"
      ]
     },
     "metadata": {},
     "output_type": "display_data"
    }
   ],
   "source": [
    "k_means = KMeans(n_clusters=5)\n",
    "fit=kmeans.fit(img6)\n",
    "lab=kmeans.labels_\n",
    "lab=list(lab)\n",
    "centroid=kmeans.cluster_centers_\n",
    "percent=[]\n",
    "\n",
    "for x in range(len(centroid)):\n",
    "    j=lab.count(x)\n",
    "    j=j/(len(lab))\n",
    "    percent.append(j)\n",
    "    \n",
    "\n",
    "\n",
    "plt.pie(percent,colors=np.array(centroid/255),labels=np.arange(len(centroid)))\n",
    "plt.show()\n"
   ]
  }
 ],
 "metadata": {
  "kernelspec": {
   "display_name": "Python 3 (ipykernel)",
   "language": "python",
   "name": "python3"
  },
  "language_info": {
   "codemirror_mode": {
    "name": "ipython",
    "version": 3
   },
   "file_extension": ".py",
   "mimetype": "text/x-python",
   "name": "python",
   "nbconvert_exporter": "python",
   "pygments_lexer": "ipython3",
   "version": "3.9.7"
  }
 },
 "nbformat": 4,
 "nbformat_minor": 5
}
